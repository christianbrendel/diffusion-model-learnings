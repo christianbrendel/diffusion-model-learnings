{
 "cells": [
  {
   "attachments": {},
   "cell_type": "markdown",
   "metadata": {},
   "source": [
    "<h1 align=\"center\">Forward Diffusion Process</h1> "
   ]
  },
  {
   "cell_type": "code",
   "execution_count": null,
   "metadata": {},
   "outputs": [],
   "source": [
    "# autoreload\n",
    "%load_ext autoreload\n",
    "%autoreload 2"
   ]
  },
  {
   "cell_type": "code",
   "execution_count": null,
   "metadata": {},
   "outputs": [],
   "source": [
    "import numpy as np\n",
    "import matplotlib.pyplot as plt\n",
    "import seaborn as sns\n",
    "from tqdm import tqdm\n",
    "\n",
    "from helper import ForwardDiffusionProcessor, download_images, normalize_image, denormalize_image"
   ]
  },
  {
   "cell_type": "code",
   "execution_count": null,
   "metadata": {},
   "outputs": [],
   "source": [
    "fdp = ForwardDiffusionProcessor()\n",
    "fig = fdp.plot_schedule()\n",
    "plt.show()"
   ]
  },
  {
   "cell_type": "code",
   "execution_count": null,
   "metadata": {},
   "outputs": [],
   "source": [
    "# Download a random image\n",
    "res = 256\n",
    "image = download_images(1, res)[0]\n",
    "x = normalize_image(image)\n",
    "\n",
    "# Run diffusion\n",
    "X = [x]\n",
    "for step in tqdm(fdp.total_timesteps):\n",
    "    x_prev = x\n",
    "    x,  _ = fdp.single_forward_diffusion_step(x_prev, step)\n",
    "    X.append(x)"
   ]
  },
  {
   "cell_type": "code",
   "execution_count": null,
   "metadata": {},
   "outputs": [],
   "source": [
    "# Plot example images\n",
    "ts_plot = [0, 10, 50, 100, 200, 500, 1000]\n",
    "\n",
    "fig, axs = plt.subplots(2, len(ts_plot), figsize=(20, 5), gridspec_kw={\"height_ratios\": [2, 1]})\n",
    "for i, ts in enumerate(ts_plot):\n",
    "\n",
    "    x = X[ts]\n",
    "    image = denormalize_image(x)\n",
    "\n",
    "    axs[0, i].imshow(image)\n",
    "    axs[0, i].set_title(f\"timestep {ts}\")\n",
    "    \n",
    "    for c, color in enumerate([\"red\", \"green\", \"blue\"]):\n",
    "        sns.histplot(x[:,:,c].flatten(), color=color, alpha=0.3, ax=axs[1, i], linewidth=0)\n",
    "    axs[1, i].set_yticks([])\n",
    "    axs[1, i].set_ylabel(\"\")\n",
    "    axs[1, i].set_title(f\"$\\mu$ = {x.mean():.2f}, $\\sigma$ = {x.std():.2f}\")\n",
    "\n",
    "plt.suptitle(\"Forward diffusion process\")\n",
    "plt.show()"
   ]
  },
  {
   "cell_type": "code",
   "execution_count": null,
   "metadata": {},
   "outputs": [],
   "source": [
    "# Plot the evolution of the mean and std\n",
    "plt.figure(figsize=(5, 3))\n",
    "plt.plot([x.mean() for x in X], label=\"$\\mu$\")\n",
    "plt.plot([x.std() for x in X], label=\"$\\sigma$\")\n",
    "plt.axhline(0, color=\"black\", linestyle=\"--\")\n",
    "plt.axhline(1, color=\"black\", linestyle=\"--\")\n",
    "plt.xlabel(\"timestep\")\n",
    "plt.title(\"Evolution of $\\mu$ and $\\sigma$\")\n",
    "plt.legend()\n",
    "plt.show()"
   ]
  },
  {
   "cell_type": "markdown",
   "metadata": {},
   "source": [
    "## Speeding up the diffusion process"
   ]
  },
  {
   "cell_type": "code",
   "execution_count": null,
   "metadata": {},
   "outputs": [],
   "source": [
    "res = 256\n",
    "image = download_images(1, res)[0]\n",
    "plt.imshow(image)\n",
    "plt.show()"
   ]
  },
  {
   "cell_type": "code",
   "execution_count": null,
   "metadata": {},
   "outputs": [],
   "source": [
    "x0 = normalize_image(image)\n",
    "t = 200 \n",
    "\n",
    "# go directly to desired step \n",
    "xt = fdp.defuse_sample(x0, t)\n",
    "\n",
    "# run diffusion iterativly\n",
    "xt_iterative = x0\n",
    "for step in tqdm(range(t)):\n",
    "    xt_iterative,  _ = fdp.single_forward_diffusion_step(xt_iterative, step)\n",
    "    \n",
    "# plot histpgrams\n",
    "fig, axs = plt.subplots(2,2, figsize=(10, 5), sharex=False, gridspec_kw={\"width_ratios\": [1, 2]})\n",
    "\n",
    "axs[0,0].imshow(denormalize_image(xt))\n",
    "axs[0,0].axis(\"off\")\n",
    "axs[0,0].set_title(\"Direct diffusion\")\n",
    "\n",
    "axs[1,0].imshow(denormalize_image(xt_iterative))\n",
    "axs[1,0].axis(\"off\")\n",
    "axs[1,0].set_title(\"Iterative diffusion\")\n",
    "\n",
    "for c, color in enumerate([\"red\", \"green\", \"blue\"]):\n",
    "    sns.histplot(xt[:,:,c].flatten(), color=color, alpha=0.3, ax=axs[0,1], linewidth=0)\n",
    "    sns.histplot(xt_iterative[:,:,c].flatten(), color=color, alpha=0.3, ax=axs[1,1], linewidth=0)\n",
    "\n",
    "xmin = min(xt.min(), xt_iterative.min())\n",
    "xmax = max(xt.max(), xt_iterative.max())\n",
    "axs[0,1].set_xlim(xmin, xmax)\n",
    "axs[1,1].set_xlim(xmin, xmax)\n",
    "\n",
    "plt.show()\n"
   ]
  },
  {
   "cell_type": "code",
   "execution_count": null,
   "metadata": {},
   "outputs": [],
   "source": []
  }
 ],
 "metadata": {
  "kernelspec": {
   "display_name": "ldm",
   "language": "python",
   "name": "python3"
  },
  "language_info": {
   "codemirror_mode": {
    "name": "ipython",
    "version": 3
   },
   "file_extension": ".py",
   "mimetype": "text/x-python",
   "name": "python",
   "nbconvert_exporter": "python",
   "pygments_lexer": "ipython3",
   "version": "3.8.5 (default, Sep  4 2020, 07:30:14) \n[GCC 7.3.0]"
  },
  "orig_nbformat": 4,
  "vscode": {
   "interpreter": {
    "hash": "4895cdc8b443a3a23981640910a32e7a59b10b569d9d0b54f5319973a233b4b2"
   }
  }
 },
 "nbformat": 4,
 "nbformat_minor": 2
}
